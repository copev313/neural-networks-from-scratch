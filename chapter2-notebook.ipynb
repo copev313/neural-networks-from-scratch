{
 "cells": [
  {
   "cell_type": "markdown",
   "metadata": {},
   "source": [
    "## Chapter 2: Coding Our First Neurons\n",
    "\n",
    "------"
   ]
  },
  {
   "cell_type": "markdown",
   "metadata": {},
   "source": [
    "### A Single Neuron\n",
    "\n",
    "> The neuron sums each input multiplied by that input's weight, then adds the bias. "
   ]
  },
  {
   "cell_type": "code",
   "execution_count": 1,
   "metadata": {},
   "outputs": [],
   "source": [
    "inputs = [1, 2, 3]\n",
    "weights = [0.2, 0.8, -0.5]\n",
    "bias = 2"
   ]
  },
  {
   "cell_type": "code",
   "execution_count": 3,
   "metadata": {},
   "outputs": [
    {
     "name": "stdout",
     "output_type": "stream",
     "text": [
      "2.3\n"
     ]
    }
   ],
   "source": [
    "# Calculating the output up to this point:\n",
    "output = (\n",
    "    inputs[0] * weights[0] +\n",
    "    inputs[1] * weights[1] +\n",
    "    inputs[2] * weights[2] +\n",
    "    bias\n",
    ")\n",
    "\n",
    "print(output)"
   ]
  },
  {
   "cell_type": "code",
   "execution_count": 4,
   "metadata": {},
   "outputs": [],
   "source": [
    "# Suppose we need to make a change to accept 4 inputs instead of 3.\n",
    "# We could do this by adding a new weight and a new input.\n",
    "inputs = [1, 2, 3, 2.5]\n",
    "weights = [0.2, 0.8, -0.5, 1.0]\n",
    "bias = 2.0"
   ]
  },
  {
   "cell_type": "code",
   "execution_count": 6,
   "metadata": {},
   "outputs": [
    {
     "name": "stdout",
     "output_type": "stream",
     "text": [
      "4.8\n"
     ]
    }
   ],
   "source": [
    "# These changes produce the following output:\n",
    "output = (\n",
    "    inputs[0] * weights[0] +\n",
    "    inputs[1] * weights[1] +\n",
    "    inputs[2] * weights[2] +\n",
    "    inputs[3] * weights[3] +\n",
    "    bias\n",
    ")\n",
    "# Notice the pattern in the calculation?\n",
    "\n",
    "print(output)"
   ]
  },
  {
   "cell_type": "markdown",
   "metadata": {},
   "source": [
    "------"
   ]
  },
  {
   "cell_type": "markdown",
   "metadata": {},
   "source": [
    "### A Layer of Neurons\n",
    "\n",
    "> Neural networks typically have layers that consist of more than one neuron. These layers are nothing more than groups of neurons that take exactly the same input.\n",
    "\n",
    "> Note that input given to a given layer can either be training data (raw input) or the output of a previous layer, however each layer does contain its own set of weights and its own bias. From this notion we can also notice each layer produces its own unique output."
   ]
  },
  {
   "cell_type": "code",
   "execution_count": 8,
   "metadata": {},
   "outputs": [],
   "source": [
    "# Suppose we have 4 initial inputs and a total of 3 layers:\n",
    "inputs = [1, 2, 3, 2.5]\n",
    "\n",
    "weights1 = [0.2, 0.8, -0.5, 1.0]\n",
    "weights2 = [0.5, -0.91, 0.26, -0.5]\n",
    "weights3 = [-0.26, -0.27, 0.17, 0.87]\n",
    "\n",
    "bias1 = 2.0\n",
    "bias2 = 3.0\n",
    "bias3 = 0.5"
   ]
  },
  {
   "cell_type": "code",
   "execution_count": 11,
   "metadata": {},
   "outputs": [
    {
     "name": "stdout",
     "output_type": "stream",
     "text": [
      "[4.8, 1.21, 2.385]\n"
     ]
    }
   ],
   "source": [
    "# The resulting output foe these layers will be a list of 3 values\n",
    "# (not a single value as before):\n",
    "outputs = [\n",
    "    # Neuron 1:\n",
    "    inputs[0] * weights1[0] +\n",
    "    inputs[1] * weights1[1] +\n",
    "    inputs[2] * weights1[2] +\n",
    "    inputs[3] * weights1[3] +\n",
    "    bias1,\n",
    "    \n",
    "    # Neuron 2:\n",
    "    inputs[0] * weights2[0] +\n",
    "    inputs[1] * weights2[1] +\n",
    "    inputs[2] * weights2[2] +\n",
    "    inputs[3] * weights2[3] +\n",
    "    bias2,\n",
    "    \n",
    "    # Neuron 3:\n",
    "    inputs[0] * weights3[0] +\n",
    "    inputs[1] * weights3[1] +\n",
    "    inputs[2] * weights3[2] +\n",
    "    inputs[3] * weights3[3] +\n",
    "    bias3\n",
    "]\n",
    "\n",
    "print(outputs)"
   ]
  },
  {
   "cell_type": "code",
   "execution_count": 12,
   "metadata": {},
   "outputs": [
    {
     "name": "stdout",
     "output_type": "stream",
     "text": [
      "[4.8, 1.21, 2.385]\n"
     ]
    }
   ],
   "source": [
    "# Let's use a loop to scale and make our code more dynamic:\n",
    "inputs = [1, 2, 3, 2.5]\n",
    "weights = [\n",
    "    [0.2, 0.8, -0.5, 1.0],\n",
    "    [0.5, -0.91, 0.26, -0.5],\n",
    "    [-0.26, -0.27, 0.17, 0.87]\n",
    "]\n",
    "biases = [2, 3, 0.5]\n",
    "\n",
    "# Outputs of the current layer:\n",
    "layer_outputs = []\n",
    "# For each neuron:\n",
    "for neuron_weights, neuron_bias in zip(weights, biases):\n",
    "    # Zeroed output of given neuron:\n",
    "    neuron_output = 0\n",
    "    # For each input and weight to the neuron:\n",
    "    for n_input, weight in zip(inputs, neuron_weights):\n",
    "        # Multiply this input by associated weight and add \n",
    "        # to the neuron's output variable:\n",
    "        neuron_output += n_input * weight\n",
    "    \n",
    "    # Add the bias:\n",
    "    neuron_output += neuron_bias\n",
    "    # Add the neuron's result to the layer's output list:\n",
    "    layer_outputs.append(neuron_output)\n",
    "\n",
    "print(layer_outputs)"
   ]
  },
  {
   "cell_type": "markdown",
   "metadata": {},
   "source": [
    "-----"
   ]
  },
  {
   "cell_type": "markdown",
   "metadata": {},
   "source": [
    "### Tensors, Arrays, & Vectors\n",
    "\n",
    "> *A **tensor** object is an object that can be represented as an **array**.*\n",
    "\n",
    "> An **array** is can be defined as an ordered *homologous* collection of numbers. This is the name of one of the main data structures in the NumPy package. Here is an example of a 3-dimensional array:\n",
    "\n",
    "```python\n",
    "[\n",
    "  [\n",
    "    [1, 2, 3],\n",
    "    [4, 5, 6]\n",
    "  ],\n",
    "  [\n",
    "    [7, 8, 9],\n",
    "    [10, 11, 12]\n",
    "  ],\n",
    "  [\n",
    "    [13, 14, 15],\n",
    "    [16, 17, 18]\n",
    "  ]\n",
    "]\n",
    "```\n",
    "\n",
    "> Note that a list of lists is called **homologous** if each list along a dimension is identically long, for each dimension. For example:\n",
    "\n",
    "```python\n",
    "# This is homologous:\n",
    "[[1, 2, 3],\n",
    " [4, 5, 6],\n",
    " [7, 8, 9]]\n",
    "```\n",
    "\n",
    "```python\n",
    "# This is not homologous:\n",
    "[[1, 2, 3],\n",
    " [4, 5, 6],\n",
    " [7, 8]]\n",
    "```\n",
    "\n",
    "> A **vector** is considered a 1-dimensional array in NumPy, however in math it most closely resembles a list in Python.\n",
    "\n",
    "```python\n",
    "# This is a vector:\n",
    "[1, 2, 3]\n",
    "```\n"
   ]
  },
  {
   "cell_type": "markdown",
   "metadata": {},
   "source": [
    "------"
   ]
  },
  {
   "cell_type": "markdown",
   "metadata": {},
   "source": [
    "### Dot Product & Vector Addition"
   ]
  },
  {
   "cell_type": "markdown",
   "metadata": {},
   "source": []
  },
  {
   "cell_type": "code",
   "execution_count": 13,
   "metadata": {},
   "outputs": [],
   "source": [
    "# To be continued..."
   ]
  }
 ],
 "metadata": {
  "kernelspec": {
   "display_name": "venv",
   "language": "python",
   "name": "python3"
  },
  "language_info": {
   "codemirror_mode": {
    "name": "ipython",
    "version": 3
   },
   "file_extension": ".py",
   "mimetype": "text/x-python",
   "name": "python",
   "nbconvert_exporter": "python",
   "pygments_lexer": "ipython3",
   "version": "3.11.4"
  },
  "orig_nbformat": 4
 },
 "nbformat": 4,
 "nbformat_minor": 2
}
